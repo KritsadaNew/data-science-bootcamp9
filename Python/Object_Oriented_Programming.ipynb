{
  "nbformat": 4,
  "nbformat_minor": 0,
  "metadata": {
    "colab": {
      "provenance": []
    },
    "kernelspec": {
      "name": "python3",
      "display_name": "Python 3"
    },
    "language_info": {
      "name": "python"
    }
  },
  "cells": [
    {
      "cell_type": "code",
      "execution_count": null,
      "metadata": {
        "id": "ZCwg6xb_PQ2z"
      },
      "outputs": [],
      "source": []
    },
    {
      "cell_type": "markdown",
      "source": [
        "#**Object Oriented Programming**"
      ],
      "metadata": {
        "id": "0cttKW3APZki"
      }
    },
    {
      "cell_type": "code",
      "source": [
        "class DataAnalyst:\n",
        "  def __init__(self,name,company,experience,skill,salary):\n",
        "    self.name = name\n",
        "    self.company = company\n",
        "    self.experience = experience\n",
        "    self.skill = skill\n",
        "    self.salary = salary\n",
        "\n",
        "  def intro(self):\n",
        "    print(f\"{self.name} work at {self.company} has experience {self.experience} years\")\n",
        "\n",
        "  def yourskill(self):\n",
        "    print(f\"{self.name} has skill is {self.skill}\")\n",
        "\n",
        "  def yoursalary(self):\n",
        "    print(f\"{self.name} current salary is {self.salary}\")\n",
        "\n",
        "  def newsalary(self,newexp):\n",
        "    exp = newexp - self.experience\n",
        "    new_salary = self.salary * (1.10**exp)\n",
        "    print(f\"{self.name} has new experience {newexp} yeas,current salary is {new_salary}\")\n",
        "\n",
        "\n",
        "\n"
      ],
      "metadata": {
        "id": "a9OyJ-DkPmb5"
      },
      "execution_count": null,
      "outputs": []
    },
    {
      "cell_type": "code",
      "source": [
        "New = DataAnalyst(\"New\",\"Google\",5,\"SQL\",65000)\n",
        "Bamm = DataAnalyst(\"Bamm\",\"Spotify\",6,\"Excell\",68000)\n",
        "New.intro()\n",
        "New.yourskill()\n",
        "New.yoursalary()\n",
        "New.newsalary(8)\n",
        "\n",
        "Bamm.intro()\n",
        "Bamm.yourskill()\n",
        "Bamm.yoursalary()\n",
        "Bamm.newsalary(9)"
      ],
      "metadata": {
        "colab": {
          "base_uri": "https://localhost:8080/"
        },
        "id": "Bfm2FkU7ak5K",
        "outputId": "da1c9516-48c2-42b3-ac78-910180c036dc"
      },
      "execution_count": null,
      "outputs": [
        {
          "output_type": "stream",
          "name": "stdout",
          "text": [
            "New work at Google has experience 5 years\n",
            "New has skill is SQL\n",
            "New current salary is 65000\n",
            "New has new experience 8 yeas,current salary is 86515.00000000003\n",
            "Bamm work at Spotify has experience 6 years\n",
            "Bamm has skill is Excell\n",
            "Bamm current salary is 68000\n",
            "Bamm has new experience 9 yeas,current salary is 90508.00000000003\n"
          ]
        }
      ]
    },
    {
      "cell_type": "code",
      "source": [],
      "metadata": {
        "colab": {
          "base_uri": "https://localhost:8080/"
        },
        "id": "Y79u8qrKbF1Y",
        "outputId": "931f154e-8bef-45c9-b120-c1d0cb37ded4"
      },
      "execution_count": null,
      "outputs": [
        {
          "output_type": "execute_result",
          "data": {
            "text/plain": [
              "25"
            ]
          },
          "metadata": {},
          "execution_count": 18
        }
      ]
    },
    {
      "cell_type": "code",
      "source": [],
      "metadata": {
        "id": "g9Jt_2iPb0wn"
      },
      "execution_count": null,
      "outputs": []
    }
  ]
}