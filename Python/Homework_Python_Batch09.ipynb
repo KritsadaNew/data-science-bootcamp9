{
  "nbformat": 4,
  "nbformat_minor": 0,
  "metadata": {
    "colab": {
      "provenance": []
    },
    "kernelspec": {
      "name": "python3",
      "display_name": "Python 3"
    },
    "language_info": {
      "name": "python"
    }
  },
  "cells": [
    {
      "cell_type": "markdown",
      "source": [
        "#**Pao Ying Chup Game**"
      ],
      "metadata": {
        "id": "F8n_xCzbzjwA"
      }
    },
    {
      "cell_type": "code",
      "source": [
        "import random"
      ],
      "metadata": {
        "id": "JNzhx8Blzv30"
      },
      "execution_count": null,
      "outputs": []
    },
    {
      "cell_type": "code",
      "source": [
        "\n",
        "choices = [\"rock\",\"paper\",\"scissors\"]\n",
        "random.choice(choices)"
      ],
      "metadata": {
        "colab": {
          "base_uri": "https://localhost:8080/",
          "height": 36
        },
        "id": "XvVe8Ad52ZdW",
        "outputId": "96e971db-7920-4e47-993d-fd0db4975ff9"
      },
      "execution_count": null,
      "outputs": [
        {
          "output_type": "execute_result",
          "data": {
            "text/plain": [
              "'rock'"
            ],
            "application/vnd.google.colaboratory.intrinsic+json": {
              "type": "string"
            }
          },
          "metadata": {},
          "execution_count": 29
        }
      ]
    },
    {
      "cell_type": "code",
      "source": [
        "def game():\n",
        "  player_score = 0\n",
        "  computer_score = 0\n",
        "  draw_score = 0\n",
        "  round = 0\n",
        "\n",
        "  # welcome to game\n",
        "  player_name = input(\"What is your name? : \")\n",
        "  print(f\"Hello {player_name},Wellcome to game.\")\n",
        "\n",
        "  while True:\n",
        "    round += 1\n",
        "    print(f\"round {round}\")\n",
        "\n",
        "    # start game\n",
        "    player_choose = input(\"Please choose : rock, paper, scissors: \").lower()\n",
        "    choices = [\"rock\",\"paper\",\"scissors\"]\n",
        "    com_choose = random.choice(choices)\n",
        "    print(f\"Your choose : {player_choose}\")\n",
        "    print(f\"Computer choose : {com_choose}\")\n",
        "\n",
        "    if player_choose == com_choose:\n",
        "      print(\"Draw\")\n",
        "      draw_score += 1\n",
        "\n",
        "    elif (\n",
        "        (player_choose == \"rock\" and com_choose == \"scissors\" )or\n",
        "        (player_choose == \"scissors\" and com_choose == \"paper\") or\n",
        "        (player_choose == \"paper\" and com_choose == \"rock\" )):\n",
        "        print(\"You win!!\")\n",
        "        player_score += 1\n",
        "        print(f\"Your score : {player_score}\")\n",
        "        print(f\"Computer score : {computer_score}\")\n",
        "\n",
        "\n",
        "\n",
        "    elif (\n",
        "        player_choose == \"rock\" and com_choose == \"paper\" or\n",
        "        player_choose == \"scissors\" and com_choose == \"rock\" or\n",
        "        player_choose == \"paper\" and com_choose == \"scissors\" ):\n",
        "        print(\"You lose!!\")\n",
        "        computer_score += 1\n",
        "        print(f\"Your score : {player_score}\")\n",
        "        print(f\"Computer score : {computer_score}\")\n",
        "\n",
        "    else:\n",
        "      print(\"Invalid!! Please choose : rock, paper, scissors\")\n",
        "\n",
        "\n",
        "    play_again = input (\"Do you want to play again (yes or no): \").lower()\n",
        "    if play_again == \"no\":\n",
        "      print(\"Thank you for playing\")\n",
        "      print(\"Your summary score\")\n",
        "      print(f\"You win: {player_score}\")\n",
        "      print(f\"You lose: {computer_score}\")\n",
        "      print(f\"Draw: {draw_score}\")\n",
        "      break\n"
      ],
      "metadata": {
        "id": "r_Pau20Vzyr0"
      },
      "execution_count": null,
      "outputs": []
    },
    {
      "cell_type": "code",
      "source": [
        "game()"
      ],
      "metadata": {
        "colab": {
          "base_uri": "https://localhost:8080/"
        },
        "id": "Yq6G0cCB3N50",
        "outputId": "b3f6a42e-21e2-4d1a-88df-3342b6e50c67"
      },
      "execution_count": null,
      "outputs": [
        {
          "output_type": "stream",
          "name": "stdout",
          "text": [
            "What is your name? : new\n",
            "Hello new,Wellcome to game.\n",
            "round 1\n",
            "Please choose : rock, paper, scissors: rock\n",
            "Your choose : rock\n",
            "Computer choose : rock\n",
            "Draw\n",
            "Do you want to play again (yes or no): yes\n",
            "round 2\n",
            "Please choose : rock, paper, scissors: lll\n",
            "Your choose : lll\n",
            "Computer choose : rock\n",
            "Invalid!! Please choose : rock, paper, scissors\n",
            "Do you want to play again (yes or no): yes\n",
            "round 3\n",
            "Please choose : rock, paper, scissors: paper\n",
            "Your choose : paper\n",
            "Computer choose : rock\n",
            "You win!!\n",
            "Your score : 1\n",
            "Computer score : 0\n",
            "Do you want to play again (yes or no): yes\n",
            "round 4\n",
            "Please choose : rock, paper, scissors: rock\n",
            "Your choose : rock\n",
            "Computer choose : scissors\n",
            "You win!!\n",
            "Your score : 2\n",
            "Computer score : 0\n",
            "Do you want to play again (yes or no): yes\n",
            "round 5\n",
            "Please choose : rock, paper, scissors: scissors\n",
            "Your choose : scissors\n",
            "Computer choose : paper\n",
            "You win!!\n",
            "Your score : 3\n",
            "Computer score : 0\n",
            "Do you want to play again (yes or no): yes\n",
            "round 6\n",
            "Please choose : rock, paper, scissors: rock\n",
            "Your choose : rock\n",
            "Computer choose : paper\n",
            "You lose!!\n",
            "Your score : 3\n",
            "Computer score : 1\n",
            "Do you want to play again (yes or no): no\n",
            "Thank you for playing\n",
            "Summary\n",
            "You win: 3\n",
            "You lose: 1\n",
            "Draw: 1\n"
          ]
        }
      ]
    }
  ]
}